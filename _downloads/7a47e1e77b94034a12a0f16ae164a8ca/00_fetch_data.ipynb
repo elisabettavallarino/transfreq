{
  "cells": [
    {
      "cell_type": "code",
      "execution_count": null,
      "metadata": {
        "collapsed": false
      },
      "outputs": [],
      "source": [
        "%matplotlib inline"
      ]
    },
    {
      "cell_type": "markdown",
      "metadata": {},
      "source": [
        "\nPart 1: Fetch data\n==================\nDownload the OpenNeuro dataset ds003490.\n"
      ]
    },
    {
      "cell_type": "code",
      "execution_count": null,
      "metadata": {
        "collapsed": false
      },
      "outputs": [],
      "source": [
        "import openneuro as on\nimport os\n\ncwd = os.getcwd()\ndata_root = os.path.join(cwd, 'transfreq_data')\n\nif not os.path.exists(data_root):\n    os.mkdir(data_root)\nelse:\n    raise Exception('Folder {} already exists. Please check'.format(\n        data_root))\n\non.download(dataset='ds003490', target_dir=data_root)"
      ]
    }
  ],
  "metadata": {
    "kernelspec": {
      "display_name": "Python 3",
      "language": "python",
      "name": "python3"
    },
    "language_info": {
      "codemirror_mode": {
        "name": "ipython",
        "version": 3
      },
      "file_extension": ".py",
      "mimetype": "text/x-python",
      "name": "python",
      "nbconvert_exporter": "python",
      "pygments_lexer": "ipython3",
      "version": "3.7.5"
    }
  },
  "nbformat": 4,
  "nbformat_minor": 0
}