{
  "cells": [
    {
      "cell_type": "code",
      "execution_count": null,
      "metadata": {
        "collapsed": false
      },
      "outputs": [],
      "source": [
        "%matplotlib inline"
      ]
    },
    {
      "cell_type": "markdown",
      "metadata": {},
      "source": [
        "\n# Part 4: Compute transition frequency\nCompute the theta-to-alpha transition frequency with transfreq and with the\nclassical Klimesch's method.\n"
      ]
    },
    {
      "cell_type": "code",
      "execution_count": null,
      "metadata": {
        "collapsed": false
      },
      "outputs": [],
      "source": [
        "from transfreq import (compute_transfreq, compute_transfreq_klimesch,\n                       compute_transfreq_minimum)\nimport os.path as op\nimport os\nimport pickle"
      ]
    },
    {
      "cell_type": "markdown",
      "metadata": {},
      "source": [
        "Define data paths\n\n"
      ]
    },
    {
      "cell_type": "code",
      "execution_count": null,
      "metadata": {
        "collapsed": false
      },
      "outputs": [],
      "source": [
        "# Local folder where to store the output of the analysis\ncwd = os.getcwd()\ndata_path = os.path.join(cwd, 'transfreq_data_preproc')\npsds_path = op.join(data_path, 'psds')\n\nif not os.path.exists(psds_path):\n    raise Exception(\n        'Cannot find data in {}. Please compute power spectra first.'.format(\n            psds_path))\n\nwith open(op.join(data_path, 'psds', 'data_rest.pkl'), 'rb') as f_rest:\n    data_rest = pickle.load(f_rest)\n    \nwith open(op.join(data_path, 'psds', 'data_task.pkl'), 'rb') as f_task:\n    data_task = pickle.load(f_task)"
      ]
    },
    {
      "cell_type": "markdown",
      "metadata": {},
      "source": [
        "Transition frequency with transfreq\n\n"
      ]
    },
    {
      "cell_type": "code",
      "execution_count": null,
      "metadata": {
        "collapsed": false
      },
      "outputs": [],
      "source": [
        "methods = [1, 2, 3, 4]\nfor subj in data_rest.keys():\n    for ses in data_rest[subj].keys():\n        psds = data_rest[subj][ses]['psds']\n        freqs = data_rest[subj][ses]['freqs']\n        ch_names = data_rest[subj][ses]['ch_names'] \n        data_rest[subj][ses]['tfbox'] = {}\n        for meth in methods:\n            data_rest[subj][ses]['tfbox'][meth] = \\\n                compute_transfreq(psds, freqs, ch_names, alpha_range=None,\n                                  theta_range=None, method=meth, iterative=True)"
      ]
    },
    {
      "cell_type": "markdown",
      "metadata": {},
      "source": [
        "Transition frequency with Klimesch's method\n\n"
      ]
    },
    {
      "cell_type": "code",
      "execution_count": null,
      "metadata": {
        "collapsed": false
      },
      "outputs": [],
      "source": [
        "for subj in data_rest.keys():\n    for ses in data_rest[subj].keys():\n        psds_rest = data_rest[subj][ses]['psds']\n        psds_task = data_task[subj][ses]['psds']\n        freqs = data_rest[subj][ses]['freqs']\n        data_task[subj][ses]['tf_klimesch'] = \\\n            compute_transfreq_klimesch(psds_rest, psds_task, freqs)"
      ]
    },
    {
      "cell_type": "markdown",
      "metadata": {},
      "source": [
        "Transition frequency with minimum method\n\n"
      ]
    },
    {
      "cell_type": "code",
      "execution_count": null,
      "metadata": {
        "collapsed": false
      },
      "outputs": [],
      "source": [
        "for subj in data_rest.keys():\n    for ses in data_rest[subj].keys():\n        psds_rest = data_rest[subj][ses]['psds']\n        freqs = data_rest[subj][ses]['freqs']\n        data_rest[subj][ses]['tf_minimum'] = \\\n            compute_transfreq_minimum(psds_rest, freqs)"
      ]
    },
    {
      "cell_type": "markdown",
      "metadata": {},
      "source": [
        "Save data (overwrite existing files)\n\n"
      ]
    },
    {
      "cell_type": "code",
      "execution_count": null,
      "metadata": {
        "collapsed": false
      },
      "outputs": [],
      "source": [
        "data_rest_file = open(op.join(data_path, 'psds', 'data_rest.pkl'), \"wb\")\ndata_task_file = open(op.join(data_path, 'psds', 'data_task.pkl'), \"wb\")\npickle.dump(data_rest, data_rest_file)\ndata_rest_file.close()    \npickle.dump(data_task, data_task_file)\ndata_task_file.close()"
      ]
    }
  ],
  "metadata": {
    "kernelspec": {
      "display_name": "Python 3",
      "language": "python",
      "name": "python3"
    },
    "language_info": {
      "codemirror_mode": {
        "name": "ipython",
        "version": 3
      },
      "file_extension": ".py",
      "mimetype": "text/x-python",
      "name": "python",
      "nbconvert_exporter": "python",
      "pygments_lexer": "ipython3",
      "version": "3.7.5"
    }
  },
  "nbformat": 4,
  "nbformat_minor": 0
}