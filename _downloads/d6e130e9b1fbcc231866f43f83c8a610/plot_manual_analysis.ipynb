{
  "cells": [
    {
      "cell_type": "code",
      "execution_count": null,
      "metadata": {
        "collapsed": false
      },
      "outputs": [],
      "source": [
        "%matplotlib inline"
      ]
    },
    {
      "cell_type": "markdown",
      "metadata": {},
      "source": [
        "\n# Compute transition frequency from custom clusters\nThis examples shows how to define two custom clusters of sensors and\nhow to compute the corresponding theta-to-alpha transition frequency.\n"
      ]
    },
    {
      "cell_type": "code",
      "execution_count": null,
      "metadata": {
        "collapsed": false
      },
      "outputs": [],
      "source": [
        "import mne\nfrom transfreq import compute_transfreq_manual\nfrom transfreq.viz import (plot_psds, plot_coefficients, plot_channels,\n                           plot_clusters, plot_transfreq)\nfrom transfreq.utils import read_sample_datapath\nimport os.path as op\nimport numpy as np\nimport matplotlib.pyplot as plt\n\n\n# Define path to the data\nsubj = 'transfreq_sample'\ndata_folder = read_sample_datapath()\nf_name = op.join(data_folder, '{}_resting.fif'.format(subj))\n\n# Load resting state data\nraw = mne.io.read_raw_fif(f_name)\n\n# List of good channels\ntmp_idx = mne.pick_types(raw.info, eeg=True, exclude='bads')\nch_names = [raw.ch_names[ch_idx] for ch_idx in tmp_idx]\n\n# Compute power spectra\nn_fft = 512*2\nbandwidth = 1\nfmin = 2\nfmax = 30\n\nsfreq = raw.info['sfreq']\nn_per_seg = int(sfreq*2)\n\npsds, freqs = mne.time_frequency.psd_multitaper(raw, fmin=fmin, fmax=fmax,\n                                                bandwidth=bandwidth)\n\n# Read channel positions\nch_locs = np.zeros((psds.shape[0], 3))\nfor ii in range(psds.shape[0]): \n    ch_locs[ii, :] = raw.info['chs'][ii]['loc'][:3]"
      ]
    },
    {
      "cell_type": "markdown",
      "metadata": {},
      "source": [
        "Plot power spectrum to visually chose theta and alpha ranges\n\n"
      ]
    },
    {
      "cell_type": "code",
      "execution_count": null,
      "metadata": {
        "collapsed": false
      },
      "outputs": [],
      "source": [
        "plot_psds(psds, freqs, average=True)"
      ]
    },
    {
      "cell_type": "markdown",
      "metadata": {},
      "source": [
        "set theta and alpha ranges\n\n"
      ]
    },
    {
      "cell_type": "code",
      "execution_count": null,
      "metadata": {
        "collapsed": false
      },
      "outputs": [],
      "source": [
        "alpha_range = [8, 9.5]\ntheta_range = [6.5, 7]"
      ]
    },
    {
      "cell_type": "markdown",
      "metadata": {},
      "source": [
        "Plot alpha and theta coefficients. In the 1D visualisation\nthe ratio between alpha and theta coefficients is plotted. In the 2d\nvisualisation a scatter-plot of the alpha and theta coefficients is shown.\n\n"
      ]
    },
    {
      "cell_type": "code",
      "execution_count": null,
      "metadata": {
        "collapsed": false
      },
      "outputs": [],
      "source": [
        "fig = plt.figure()\ngs = fig.add_gridspec(2, 2)\nax1 = fig.add_subplot(gs[0, :])\nplot_coefficients(psds, freqs, ch_names=ch_names, alpha_range=alpha_range,\n                  theta_range=theta_range, mode='1d', ax=ax1, order='sorted')\nax2 = fig.add_subplot(gs[1, 0])\nplot_coefficients(psds, freqs, ch_names=ch_names, alpha_range=alpha_range,\n                  theta_range=theta_range, mode='2d', ax=ax2)\n# Plot the corresponding averaged power spectra.\nax3 = fig.add_subplot(gs[1, 1])\nplot_psds(psds, freqs, average=True, ax=ax3)\nfig.tight_layout()"
      ]
    },
    {
      "cell_type": "markdown",
      "metadata": {},
      "source": [
        "Chose channels from the figure to manually define the clusters and compute\nthe corresponding transition frequency\n\n"
      ]
    },
    {
      "cell_type": "code",
      "execution_count": null,
      "metadata": {
        "collapsed": false
      },
      "outputs": [],
      "source": [
        "# First definition by looking at the 1D plot\ntheta_chs_1d = ['C5', 'C3', 'T8', 'C1', 'C6']\nalpha_chs_1d = ['P4', 'P2', 'CP2']\n\n# Second definition by looking at the 2D plot\ntheta_chs_2d = ['C5', 'C3', 'T8']\nalpha_chs_2d = ['P4', 'P2', 'Pz', 'CP2', 'POz', 'Fp2', 'PO4', 'P1']\n\ntfbox_1d = compute_transfreq_manual(psds, freqs, theta_chs_1d, alpha_chs_1d, \n                                    ch_names=ch_names, theta_range=theta_range,\n                                    alpha_range=alpha_range, method='my_method_1d')\ntfbox_2d = compute_transfreq_manual(psds, freqs, theta_chs_2d, alpha_chs_2d, \n                                    ch_names=ch_names, theta_range=theta_range, \n                                    alpha_range=alpha_range, method='my_method_2d')"
      ]
    },
    {
      "cell_type": "markdown",
      "metadata": {},
      "source": [
        "Plot results obtained with the first definition of the clusters (1D)\n\n"
      ]
    },
    {
      "cell_type": "code",
      "execution_count": null,
      "metadata": {
        "collapsed": false
      },
      "outputs": [],
      "source": [
        "fig = plt.figure(constrained_layout=True, figsize=(15, 10))\nsubfigs = fig.subfigures(2, 2, wspace=0.1)\nplot_channels(tfbox_1d, ch_locs, mode='1d', subfig=subfigs[0,0])\nax1 = subfigs[0,1].subplots(1, 1)\nplot_clusters(tfbox_1d, mode='1d', order='sorted', ax=ax1)\nax2 = subfigs[1,0].subplots(1, 1)\nplot_transfreq(psds, freqs, tfbox_1d, ax=ax2)"
      ]
    },
    {
      "cell_type": "markdown",
      "metadata": {},
      "source": [
        "Plot results obtained with the second definition of the clusters (2D)\n\n"
      ]
    },
    {
      "cell_type": "code",
      "execution_count": null,
      "metadata": {
        "collapsed": false
      },
      "outputs": [],
      "source": [
        "fig = plt.figure(constrained_layout=True, figsize=(15, 10))\nsubfigs = fig.subfigures(2, 2, wspace=0.07)\nplot_channels(tfbox_2d, ch_locs, mode='2d', subfig=subfigs[0,0])\nax1 = subfigs[0,1].subplots(1, 1)\nplot_clusters(tfbox_2d, mode='2d', order='sorted', ax=ax1)\nax2 = subfigs[1,0].subplots(1, 1)\nplot_transfreq(psds, freqs, tfbox_2d, ax=ax2)"
      ]
    }
  ],
  "metadata": {
    "kernelspec": {
      "display_name": "Python 3",
      "language": "python",
      "name": "python3"
    },
    "language_info": {
      "codemirror_mode": {
        "name": "ipython",
        "version": 3
      },
      "file_extension": ".py",
      "mimetype": "text/x-python",
      "name": "python",
      "nbconvert_exporter": "python",
      "pygments_lexer": "ipython3",
      "version": "3.7.5"
    }
  },
  "nbformat": 4,
  "nbformat_minor": 0
}