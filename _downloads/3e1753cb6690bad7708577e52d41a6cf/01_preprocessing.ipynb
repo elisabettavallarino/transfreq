{
  "cells": [
    {
      "cell_type": "code",
      "execution_count": null,
      "metadata": {
        "collapsed": false
      },
      "outputs": [],
      "source": [
        "%matplotlib inline"
      ]
    },
    {
      "cell_type": "markdown",
      "metadata": {},
      "source": [
        "\n# Part 2: Preprocessing\nDrop bad subjects and preprocess the data\n"
      ]
    },
    {
      "cell_type": "code",
      "execution_count": null,
      "metadata": {
        "collapsed": false
      },
      "outputs": [],
      "source": [
        "import preprocessing_info as prep_info\nimport os"
      ]
    },
    {
      "cell_type": "markdown",
      "metadata": {},
      "source": [
        "Define data paths\n\n"
      ]
    },
    {
      "cell_type": "code",
      "execution_count": null,
      "metadata": {
        "collapsed": false
      },
      "outputs": [],
      "source": [
        "# Local folder where the data have been downloaded\ncwd = os.getcwd()\ndata_root = os.path.join(cwd, 'transfreq_data')\nif not os.path.exists(data_root):\n    raise Exception('Cannot find data in {}. Please check.'.format(data_root))\n\n# Local folder where to store the output of the analysis\ndata_path = os.path.join(cwd, 'transfreq_data_preproc')\ndatatype = 'eeg'\ntask = 'Rest'\nsuffix = 'eeg'\n\nif os.path.exists(data_path):\n    raise Exception('Folder {} already exists. Please check'.format(\n        data_path))"
      ]
    },
    {
      "cell_type": "markdown",
      "metadata": {},
      "source": [
        "Subjects included in analysis\n\n"
      ]
    },
    {
      "cell_type": "code",
      "execution_count": null,
      "metadata": {
        "collapsed": false
      },
      "outputs": [],
      "source": [
        "subj_per_session = {'01': ['001', '002', '003', '004', '006', '007', '008', '009',\n                           '010', '011', '012', '013', '014', '015', '016', '017',\n                           '019', '020', '021', '023', '024', '025', '026', '027',\n                           '028', '030', '031', '032', '033', '034', '035', '037',\n                           '038', '039', '040', '041', '042', '043', '044', '045',\n                           '046', '047', '048', '049', '050'],\n                    '02': ['001', '002', '004', '006', '007', '008', '009', '010',\n                           '011', '012', '013', '014', '015', '016', '017', '018',\n                           '019', '020', '021', '023', '024', '025', '026', '027']}"
      ]
    },
    {
      "cell_type": "markdown",
      "metadata": {},
      "source": [
        "Preprocess data\n\n"
      ]
    },
    {
      "cell_type": "code",
      "execution_count": null,
      "metadata": {
        "collapsed": false
      },
      "outputs": [],
      "source": [
        "for session in subj_per_session.keys():\n    for subject in subj_per_session[session]:  \n        prep_info.preprocessing(data_root, datatype, subject,\n                                session, task, suffix, data_path)"
      ]
    }
  ],
  "metadata": {
    "kernelspec": {
      "display_name": "Python 3",
      "language": "python",
      "name": "python3"
    },
    "language_info": {
      "codemirror_mode": {
        "name": "ipython",
        "version": 3
      },
      "file_extension": ".py",
      "mimetype": "text/x-python",
      "name": "python",
      "nbconvert_exporter": "python",
      "pygments_lexer": "ipython3",
      "version": "3.7.5"
    }
  },
  "nbformat": 4,
  "nbformat_minor": 0
}