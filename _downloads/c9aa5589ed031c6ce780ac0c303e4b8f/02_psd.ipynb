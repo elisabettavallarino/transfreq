{
  "cells": [
    {
      "cell_type": "code",
      "execution_count": null,
      "metadata": {
        "collapsed": false
      },
      "outputs": [],
      "source": [
        "%matplotlib inline"
      ]
    },
    {
      "cell_type": "markdown",
      "metadata": {},
      "source": [
        "\nPart 3: Compute power spectra\n=============================\nCompute the power sectra of the pre-processed EEG recording by using multitaper\nmethod\n"
      ]
    },
    {
      "cell_type": "code",
      "execution_count": null,
      "metadata": {
        "collapsed": false
      },
      "outputs": [],
      "source": [
        "import mne\nimport os.path as op\nimport numpy as np\nimport pickle\nimport os.path\nfrom os import makedirs"
      ]
    },
    {
      "cell_type": "markdown",
      "metadata": {},
      "source": [
        "Define data paths\n\n"
      ]
    },
    {
      "cell_type": "code",
      "execution_count": null,
      "metadata": {
        "collapsed": false
      },
      "outputs": [],
      "source": [
        "# local folder where to store the output of the analysis\ncwd = os.getcwd()\ndata_path = os.path.join(cwd, 'transfreq_data_preproc')\n\nif not os.path.exists(data_path):\n    raise Exception(\n        'Cannot find data in {}. Please run preprocessing first.'.format(data_path))"
      ]
    },
    {
      "cell_type": "markdown",
      "metadata": {},
      "source": [
        "All the subject in the dataset\n\n"
      ]
    },
    {
      "cell_type": "code",
      "execution_count": null,
      "metadata": {
        "collapsed": false
      },
      "outputs": [],
      "source": [
        "subjs = ['001', '002', '003', '004', '005', '006', '007', '008', '009', '010',\n         '011', '012', '013', '014', '015', '016', '017', '018', '019', '020',\n         '021', '022', '023', '024', '025', '026', '027', '028', '029', '030',\n         '031', '032', '033', '034', '035', '036', '037', '038', '039', '040',\n         '041', '042', '043', '044', '045', '046', '047', '048', '049', '050']\nsess = ['01', '02']\n\n# Define some parameters for the psd computation\nbandwidth = 1\nfmin = 2\nfmax = 30\n\n# Compute psd of the preprocessed data\ndata_rest = {}\ndata_task = {}\nfor subj in subjs:\n    if os.path.exists(op.join(data_path, 'preproc_files', 'sub'+subj)):\n        data_rest[subj] = {}\n        data_task[subj] = {}\n        for ses in sess:\n            if os.path.exists(op.join(data_path, 'preproc_files', 'sub'+subj,\n                                      'ses'+str(ses))):\n                data_rest[subj][ses] = {}\n                data_task[subj][ses] = {}\n    \n                # file paths\n                f_name_rest = op.join(data_path, 'preproc_files', 'sub'+subj,\n                                      'ses'+str(ses), 'sub-'+subj+'_ses-' +\n                                      ses+'_task-eyeclose_raw.fif')\n                f_name_task = op.join(data_path, 'preproc_files', 'sub'+subj,\n                                      'ses'+str(ses), 'sub-'+subj+'_ses-' +\n                                      ses+'_task-memory_raw.fif')\n        \n                # load data - rest\n                raw_rest = mne.io.read_raw_fif(f_name_rest)\n                raw_rest = raw_rest.pick_types(eeg=True,\n                                               exclude=raw_rest.info['bads'] +\n                                               ['TP9', 'TP10', 'FT9', 'FT10'])\n    \n                # load data - task\n                raw_task = mne.io.read_raw_fif(f_name_task)\n                raw_task = raw_task.pick_types(eeg=True,\n                                               exclude=raw_task.info['bads'] +\n                                               ['TP9', 'TP10', 'FT9', 'FT10'])\n    \n                # set time interval so that raw_rest and raw_task have the same\n                # duration\n                tmin = 0\n                tmax = min(raw_rest.times[-1], raw_task.times[-1])\n    \n                # save channel names (only for resting data)\n                ch_idxs = mne.pick_types(raw_rest.info, eeg=True, exclude='bads')\n                data_rest[subj][ses]['ch_names'] = [raw_rest.ch_names[ch_idx] \n                                                    for ch_idx in ch_idxs]\n    \n                # save channel locations\n                data_rest[subj][ses]['ch_locs'] = np.zeros((len(data_rest[subj][ses]['ch_names']), 3))\n                for ii in range(len(data_rest[subj][ses]['ch_names'])): \n                    data_rest[subj][ses]['ch_locs'][ii, :] = raw_rest.info['chs'][ii]['loc'][:3]\n    \n                # compute power spectrum with multitaper - rest\n                data_rest[subj][ses]['psds'], data_rest[subj][ses]['freqs'] =\\\n                    mne.time_frequency.psd_multitaper(raw_rest, fmin=fmin, fmax=fmax, tmin=tmin,\n                                                      tmax=tmax, bandwidth=bandwidth,\n                                                      picks=data_rest[subj][ses]['ch_names'])\n    \n                # compute power spectrum with multitaper - task\n                ch_idxs = mne.pick_types(raw_task.info, eeg=True, exclude='bads')\n                ch_names = [raw_task.ch_names[ch_idx] for ch_idx in ch_idxs]\n\n                data_task[subj][ses]['psds'], data_task[subj][ses]['freqs'] =\\\n                    mne.time_frequency.psd_multitaper(raw_task, fmin=fmin, fmax=fmax, tmin=tmin,\n                                                      tmax=tmax, bandwidth=bandwidth,\n                                                      picks=ch_names)\n    \n\nif not op.isdir(op.join(data_path, 'psds')):\n    makedirs(op.join(data_path, 'psds'))\ndata_rest_file = open(op.join(data_path, 'psds', 'data_rest.pkl'), \"wb\")\ndata_task_file = open(op.join(data_path, 'psds', 'data_task.pkl'), \"wb\")\npickle.dump(data_rest, data_rest_file)\ndata_rest_file.close()    \npickle.dump(data_task, data_task_file)\ndata_task_file.close()"
      ]
    }
  ],
  "metadata": {
    "kernelspec": {
      "display_name": "Python 3",
      "language": "python",
      "name": "python3"
    },
    "language_info": {
      "codemirror_mode": {
        "name": "ipython",
        "version": 3
      },
      "file_extension": ".py",
      "mimetype": "text/x-python",
      "name": "python",
      "nbconvert_exporter": "python",
      "pygments_lexer": "ipython3",
      "version": "3.7.5"
    }
  },
  "nbformat": 4,
  "nbformat_minor": 0
}