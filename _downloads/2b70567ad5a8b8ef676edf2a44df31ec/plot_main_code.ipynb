{
  "cells": [
    {
      "cell_type": "code",
      "execution_count": null,
      "metadata": {
        "collapsed": false
      },
      "outputs": [],
      "source": [
        "%matplotlib inline"
      ]
    },
    {
      "cell_type": "markdown",
      "metadata": {},
      "source": [
        "\nAuthomatic computation of the transition frequency\n==================================================\nThis example shows how to use transfreq for computing the alpha-to-theta\ntransition frequency when only resting-state data are available.\nThe result is compared with that obtained by using the classical\nKlimesch's method.\n"
      ]
    },
    {
      "cell_type": "code",
      "execution_count": null,
      "metadata": {
        "collapsed": false
      },
      "outputs": [],
      "source": [
        "import mne\nfrom transfreq import compute_transfreq_klimesch, compute_transfreq\nfrom transfreq.viz import (plot_transfreq, plot_transfreq_klimesch, \n                           plot_clusters, plot_channels)\nfrom transfreq.utils import read_sample_datapath\nimport os.path as op\nimport numpy as np\nimport matplotlib.pyplot as plt\n\n\n# Define path to the data\nsubj = 'transfreq_sample'\ndata_folder = read_sample_datapath()\nf_name_rest = op.join(data_folder, '{}_resting.fif'.format(subj))\nf_name_task = op.join(data_folder, '{}_evoked.fif'.format(subj))\n\n# Load resting state data\nraw_rest = mne.io.read_raw_fif(f_name_rest)\nraw_rest = raw_rest.pick_types(eeg=True, exclude=raw_rest.info['bads'] + ['TP9', 'TP10', 'FT9', 'FT10'])\n\n# Load data recorded during task execution\nraw_task = mne.io.read_raw_fif(f_name_task)\nraw_task = raw_task.pick_types(eeg=True, exclude=raw_task.info['bads'] + ['TP9', 'TP10', 'FT9', 'FT10'])\n\n# List of good channels\ntmp_idx = mne.pick_types(raw_rest.info, eeg=True, exclude='bads')\nch_names_rest = [raw_rest.ch_names[ch_idx] for ch_idx in tmp_idx]\n\ntmp_idx = mne.pick_types(raw_task.info, eeg=True, exclude='bads')\nch_names_task = [raw_task.ch_names[ch_idx] for ch_idx in tmp_idx]\n\n# Define time range. The length of both recordings is set equal to the length of\n# the shortest one. In this way we obtain the same frequency resolution when\n# computing the corresponding power spectra by using the multitaper method.\n# This is required for applying the Klimesch's method\ntmin = 0\ntmax = min(raw_rest.times[-1], raw_task.times[-1])\n\n# Compute power spectra\nn_fft = 512*2\nbandwidth = 1\nfmin = 2\nfmax = 30\n\nsfreq = raw_rest.info['sfreq']\nn_per_seg = int(sfreq*2)\n\npsds_rest, freqs = mne.time_frequency.psd_multitaper(raw_rest, fmin=fmin, \n                                                     fmax=fmax, tmin=tmin,\n                                                     tmax=tmax,\n                                                     bandwidth=bandwidth)\n\npsds_task, freqs = mne.time_frequency.psd_multitaper(raw_task, fmin=fmin,\n                                                     fmax=fmax, tmin=tmin,\n                                                     tmax=tmax,\n                                                     bandwidth=bandwidth)\n\n# Define channel positions\nch_locs_rest = np.zeros((len(ch_names_rest), 3))\n\nfor ii in range(len(ch_names_rest)): \n    ch_locs_rest[ii, :] = raw_rest.info['chs'][ii]['loc'][:3]"
      ]
    },
    {
      "cell_type": "markdown",
      "metadata": {},
      "source": [
        "Compute the transition frequency with the default clustering method\n\n"
      ]
    },
    {
      "cell_type": "code",
      "execution_count": null,
      "metadata": {
        "collapsed": false
      },
      "outputs": [],
      "source": [
        "tfbox = compute_transfreq(psds_rest, freqs, ch_names=ch_names_rest)"
      ]
    },
    {
      "cell_type": "markdown",
      "metadata": {},
      "source": [
        "Plot results\n\n"
      ]
    },
    {
      "cell_type": "code",
      "execution_count": null,
      "metadata": {
        "collapsed": false
      },
      "outputs": [],
      "source": [
        "# Plot estimated transition frequency\nfig = plt.figure()\ngs = fig.add_gridspec(2, 2)\nax1 = fig.add_subplot(gs[0, 0])\nplot_transfreq(psds_rest, freqs, tfbox, ax=ax1)\n\n# Plot results of the clustering approach\nax2 = fig.add_subplot(gs[0, 1])\nplot_clusters(tfbox, ax=ax2)\n\n# Plot locations of the two channels groups\nax3 = fig.add_subplot(gs[1, :])\nplot_channels(tfbox, ch_locs_rest, ax=ax3)\nfig.tight_layout()"
      ]
    },
    {
      "cell_type": "markdown",
      "metadata": {},
      "source": [
        "Compute results with Klimesch's method\n\n"
      ]
    },
    {
      "cell_type": "code",
      "execution_count": null,
      "metadata": {
        "collapsed": false
      },
      "outputs": [],
      "source": [
        "tf_klimesch = compute_transfreq_klimesch(psds_rest, psds_task, freqs)"
      ]
    },
    {
      "cell_type": "markdown",
      "metadata": {},
      "source": [
        "Plot and compare the transition frequencies estimated with klimesch's metod\nand with transfreq\n\n"
      ]
    },
    {
      "cell_type": "code",
      "execution_count": null,
      "metadata": {
        "collapsed": false
      },
      "outputs": [],
      "source": [
        "fig, ax = plt.subplots(1, 2, figsize=(8, 4))\nplot_transfreq_klimesch(psds_rest, psds_task, freqs, tf_klimesch, ax=ax[0])\nplot_transfreq(psds_rest, freqs, tfbox, ax=ax[1])\nfig.tight_layout()"
      ]
    }
  ],
  "metadata": {
    "kernelspec": {
      "display_name": "Python 3",
      "language": "python",
      "name": "python3"
    },
    "language_info": {
      "codemirror_mode": {
        "name": "ipython",
        "version": 3
      },
      "file_extension": ".py",
      "mimetype": "text/x-python",
      "name": "python",
      "nbconvert_exporter": "python",
      "pygments_lexer": "ipython3",
      "version": "3.7.5"
    }
  },
  "nbformat": 4,
  "nbformat_minor": 0
}