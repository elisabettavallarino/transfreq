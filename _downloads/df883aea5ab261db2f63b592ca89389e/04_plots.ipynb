{
  "cells": [
    {
      "cell_type": "code",
      "execution_count": null,
      "metadata": {
        "collapsed": false
      },
      "outputs": [],
      "source": [
        "%matplotlib inline"
      ]
    },
    {
      "cell_type": "markdown",
      "metadata": {},
      "source": [
        "\nPart 5: Plot results\n====================\nVisualize and compare the transition frequency estimated with transfreq\nand with Klimesch's method\n"
      ]
    },
    {
      "cell_type": "code",
      "execution_count": null,
      "metadata": {
        "collapsed": false
      },
      "outputs": [],
      "source": [
        "from transfreq.viz import plot_channels, plot_transfreq_klimesch, plot_transfreq\nimport os.path as op\nimport pickle\nimport numpy as np\nimport matplotlib.pyplot as plt\nimport os"
      ]
    },
    {
      "cell_type": "markdown",
      "metadata": {},
      "source": [
        "Define data paths\n\n"
      ]
    },
    {
      "cell_type": "code",
      "execution_count": null,
      "metadata": {
        "collapsed": false
      },
      "outputs": [],
      "source": [
        "# Local folder where to store the output of the analysis\ncwd = os.getcwd()\ndata_path = os.path.join(cwd, 'transfreq_data_preproc')\npsds_path = op.join(data_path, 'psds')\n\nif not os.path.exists(psds_path):\n    raise Exception(\n        'Cannot find data in {}. Please compute power spectra and TF first.'.format(\n            psds_path))\n\nwith open(op.join(data_path, 'psds', 'data_rest.pkl'), 'rb') as f_rest:\n    data_rest = pickle.load(f_rest)\n    \nwith open(op.join(data_path, 'psds', 'data_task.pkl'), 'rb') as f_task:\n    data_task = pickle.load(f_task)"
      ]
    },
    {
      "cell_type": "markdown",
      "metadata": {},
      "source": [
        "Subjects for which klimesch's method does not provide satisfying results\n\n"
      ]
    },
    {
      "cell_type": "code",
      "execution_count": null,
      "metadata": {
        "collapsed": false
      },
      "outputs": [],
      "source": [
        "bad_subjs = {'01': ['003', '013', '020', '023', '027', '031', '037', '042',\n                    '047'],\n             '02': ['002', '007', '009', '011', '013', '015', '018', '019',\n                    '020', '027']}"
      ]
    },
    {
      "cell_type": "markdown",
      "metadata": {},
      "source": [
        "Results for an illustrative case (subject 001, session 01)\n\n"
      ]
    },
    {
      "cell_type": "code",
      "execution_count": null,
      "metadata": {
        "collapsed": false
      },
      "outputs": [],
      "source": [
        "subj = '001'\nses = '01'\nch_locs = data_rest[subj][ses]['ch_locs']\npsds_rest = data_rest[subj][ses]['psds']\npsds_task = data_task[subj][ses]['psds']\nfreqs = data_rest[subj][ses]['freqs']\ntf_klimesch = data_task[subj][ses]['tf_klimesch']\n\n# Clustering methods\nmeths = [1, 2, 3, 4]\n\n# Plots of the channels in G_theta and G_alpha over the topomaps\nfig, ax = plt.subplots(2, 2, figsize=(10, 5))\nax = ax.ravel()\nfor i_meth, meth in enumerate(meths):\n    tfbox = data_rest[subj][ses]['tfbox'][meth]\n    plot_channels(tfbox, ch_locs, ax=ax[i_meth])\n\n# Plots of transition frequencies with Klimesch's method and tranfsreq\nfig, ax = plt.subplots(3, 2, figsize=(10, 10))\nax = ax.ravel()\nplot_transfreq_klimesch(psds_rest, psds_task, freqs, tf_klimesch, ax=ax[0])\nax[1].set_visible(False)\nfor i_meth, meth in enumerate(meths):\n    tfbox = data_rest[subj][ses]['tfbox'][meth]\n    plot_transfreq(psds_rest, freqs, tfbox, ax=ax[i_meth+2])\nfig.tight_layout()"
      ]
    },
    {
      "cell_type": "markdown",
      "metadata": {},
      "source": [
        "Boxplots\n\n"
      ]
    },
    {
      "cell_type": "code",
      "execution_count": null,
      "metadata": {
        "collapsed": false
      },
      "outputs": [],
      "source": [
        "# Some properties for boxplots visualisation\nlinewidth = 2\nleg_fs = 12\nlab_fs = 14\nticks_fs = 10\nboxprops = dict(linewidth=2)\nflierprops = dict(marker='o', markerfacecolor='k', markersize=10,\n                  markeredgecolor='none')\nmedianprops = dict(linewidth=2)\nmeanpointprops = dict(marker='D', markeredgecolor='black',\n                      markerfacecolor='firebrick')\nwhiskerprops = dict(linewidth=2)\ncapprops = dict(linewidth=2)\nmeths = [1, 2, 3, 4]\nmeths_label = [str(meth) for meth in meths]\ncol = ['red', 'orange', 'olive', 'purple', 'brown', 'cyan']\n\ntotal_subjs = [str(ses) for subj in data_rest.keys() for ses in data_rest[subj].keys()]\ntotal_bad_subjs = [str(subj) for ses in bad_subjs.keys() for subj in bad_subjs[ses]]\nerr_tf = np.zeros((len(total_subjs)-len(total_bad_subjs), len(meths)))\n\ni_sub = 0\nfor subj in data_rest.keys():\n    for ses in data_rest[subj].keys():\n        if subj not in bad_subjs[ses]:\n            for i_meth, meth in enumerate(data_rest[subj][ses]['tfbox'].keys()):\n                err_tf[i_sub, i_meth] = data_task[subj][ses]['tf_klimesch']-data_rest[subj][ses]['tfbox'][meth]['tf']\n            i_sub = i_sub+1\nfig = plt.figure()\nplt.boxplot(err_tf, meanline=True, boxprops=boxprops, flierprops=flierprops, medianprops=medianprops,\n            meanprops=meanpointprops, whiskerprops=whiskerprops, capprops=capprops)\nplt.ylabel(r'$\\Delta_{TF} \\coloneq TF_{Klimesch}-TF_{TransFreq}$ [Hz]', fontsize=lab_fs)\nplt.xlabel('Clustering method', fontsize=lab_fs)\nplt.xticks(np.arange(1, len(meths)+1), labels=meths_label, rotation=0, fontsize=ticks_fs)\nplt.yticks(fontsize=ticks_fs)\nplt.grid()\nplt.tight_layout()"
      ]
    },
    {
      "cell_type": "markdown",
      "metadata": {},
      "source": [
        "Improvements of transfeq over the Klimesch's method\n\n"
      ]
    },
    {
      "cell_type": "code",
      "execution_count": null,
      "metadata": {
        "collapsed": false
      },
      "outputs": [],
      "source": [
        "# subject 013, session 01\nsubj = '013'\nses = '01'\npsds_rest = data_rest[subj][ses]['psds']\npsds_task = data_task[subj][ses]['psds']\nfreqs = data_rest[subj][ses]['freqs']\ntfbox = data_rest[subj][ses]['tfbox'][4]\ntf_klimesch = data_task[subj][ses]['tf_klimesch']\n\nfig, ax = plt.subplots(1, 2, figsize=(8, 4))\nplot_transfreq_klimesch(psds_rest, psds_task, freqs, tf_klimesch, ax=ax[0])\nplot_transfreq(psds_rest, freqs, tfbox, ax=ax[1])\nfig.tight_layout()    \n\n\n# subject 037, session 01\nsubj = '037'\nses = '01'\npsds_rest = data_rest[subj][ses]['psds']\npsds_task = data_task[subj][ses]['psds']\nfreqs = data_rest[subj][ses]['freqs']\ntfbox = data_rest[subj][ses]['tfbox'][4]\ntf_klimesch = data_task[subj][ses]['tf_klimesch']\n\nfig, ax = plt.subplots(1, 2, figsize=(8, 4))\nplot_transfreq_klimesch(psds_rest, psds_task, freqs, tf_klimesch, ax=ax[0])\nplot_transfreq(psds_rest, freqs, tfbox, ax=ax[1])\nax[0].lines.remove(fig.axes[0].lines[2])\nax[0].legend()\nfig.tight_layout()    \n\nplt.show()"
      ]
    }
  ],
  "metadata": {
    "kernelspec": {
      "display_name": "Python 3",
      "language": "python",
      "name": "python3"
    },
    "language_info": {
      "codemirror_mode": {
        "name": "ipython",
        "version": 3
      },
      "file_extension": ".py",
      "mimetype": "text/x-python",
      "name": "python",
      "nbconvert_exporter": "python",
      "pygments_lexer": "ipython3",
      "version": "3.7.5"
    }
  },
  "nbformat": 4,
  "nbformat_minor": 0
}