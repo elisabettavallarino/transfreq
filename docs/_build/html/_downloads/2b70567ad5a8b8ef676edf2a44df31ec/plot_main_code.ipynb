{
  "cells": [
    {
      "cell_type": "code",
      "execution_count": null,
      "metadata": {
        "collapsed": false
      },
      "outputs": [],
      "source": [
        "%matplotlib inline"
      ]
    },
    {
      "cell_type": "markdown",
      "metadata": {},
      "source": [
        "\nTitle of the example\n===========================\n\nShort description\n"
      ]
    },
    {
      "cell_type": "code",
      "execution_count": null,
      "metadata": {
        "collapsed": false
      },
      "outputs": [],
      "source": [
        "import mne\nfrom transfreq import functions\nimport os.path as op\nimport numpy as np\n\n\n\nsubj = '001'\nses = '01'\n\n# define file paths\nf_name = op.join('..', 'sub-'+subj,'ses-'+ses,'eeg','sub-'+subj+'_ses-'+ses+'_task-eyeclose_raw.fif')\n\n# load data\nraw = mne.io.read_raw_fif(f_name)\nraw = raw.pick_types(eeg = True, exclude=raw.info['bads']+['TP9','TP10','FT9','FT10'])\n\n# define good channels\ntmp_idx = mne.pick_types(raw.info, eeg=True, exclude='bads')\nch_names = [raw.ch_names[ch_idx] for ch_idx in tmp_idx]\n\n# define time range \ntmin=0\ntmax=raw.times[-1]\n\n# compute psds\nn_fft = 512*2\nbandwidth = 1\nfmin = 2\nfmax = 30\n\nsfreq = raw.info['sfreq']\nn_per_seg = int(sfreq*2)\n\npsds, freqs = mne.time_frequency.psd_multitaper(raw, fmin=fmin, fmax=fmax,tmin=tmin, tmax=tmax,bandwidth=bandwidth, adaptive=False,\n                              low_bias=True, normalization='length', picks=ch_names, proj=False, n_jobs=1, verbose=None)\n\n# normalize psds (not necessary because all the implemented functions do normalize psds)\npsds = psds/psds.sum(axis=1).reshape((psds.shape[0],1))\n\n# define channel positions\nch_locs = np.zeros((len(ch_names),3))\n\nfor ii in range(len(ch_names)): \n    ch_locs[ii,:] = raw.info['chs'][ii]['loc'][:3]\n\n\n# compute TFbox automatically\nTFbox = functions.computeTF_auto(psds, freqs, ch_names, alpha_range = None, theta_range = None, method = '2bis', iterative=True)\n\n# plot clustering\nfunctions.plot_clustering(TFbox, method = None)   \n\n# plot channels on head surface\nfunctions.plot_chs(TFbox, ch_locs, method = None)\n\n# plot transition frequency\nfunctions.plot_TF(psds, freqs, TFbox)"
      ]
    }
  ],
  "metadata": {
    "kernelspec": {
      "display_name": "Python 3",
      "language": "python",
      "name": "python3"
    },
    "language_info": {
      "codemirror_mode": {
        "name": "ipython",
        "version": 3
      },
      "file_extension": ".py",
      "mimetype": "text/x-python",
      "name": "python",
      "nbconvert_exporter": "python",
      "pygments_lexer": "ipython3",
      "version": "3.7.5"
    }
  },
  "nbformat": 4,
  "nbformat_minor": 0
}